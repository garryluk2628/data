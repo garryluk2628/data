{
  "nbformat": 4,
  "nbformat_minor": 0,
  "metadata": {
    "colab": {
      "provenance": []
    },
    "kernelspec": {
      "name": "python3",
      "display_name": "Python 3"
    },
    "language_info": {
      "name": "python"
    }
  },
  "cells": [
    {
      "cell_type": "code",
      "execution_count": null,
      "metadata": {
        "id": "0_eUu3mUQLqf"
      },
      "outputs": [],
      "source": [
        "import numpy as np\n",
        "import matplotlib.pyplot as plt\n",
        "import pandas as pd\n",
        "from sklearn.preprocessing import MinMaxScaler\n",
        "from tensorflow.keras.models import Sequential\n",
        "from tensorflow.keras.layers import LSTM\n",
        "from tensorflow.keras.layers import Dense\n",
        "from tensorflow.keras.layers import Dropout"
      ]
    },
    {
      "cell_type": "code",
      "source": [
        "from google.colab import drive\n",
        "drive.mount('/content/drive')"
      ],
      "metadata": {
        "colab": {
          "base_uri": "https://localhost:8080/"
        },
        "id": "mvT3L00fa3wy",
        "outputId": "69c6ef00-ad05-4a4d-9823-1d343a0767ce"
      },
      "execution_count": null,
      "outputs": [
        {
          "output_type": "stream",
          "name": "stdout",
          "text": [
            "Mounted at /content/drive\n"
          ]
        }
      ]
    },
    {
      "cell_type": "code",
      "source": [
        "!ls \"/content/drive/MyDrive/8 Aug 2023/\""
      ],
      "metadata": {
        "colab": {
          "base_uri": "https://localhost:8080/"
        },
        "id": "FVRmEUYLbhHa",
        "outputId": "f2ece728-8971-4b0c-a88b-efca66c09832"
      },
      "execution_count": null,
      "outputs": [
        {
          "output_type": "stream",
          "name": "stdout",
          "text": [
            "1-RNN_Hand_writing_recongise.ipynb  4-LSTM_Stock_Predict.ipynb\n",
            "2-CNN_example.ipynb\t\t    CNN_Example_mnist.ipynb\n",
            "3A-LSTM_Example_1.ipynb\t\t    Google_Stock_Price_Test.csv\n",
            "3B-LSTM_stock.ipynb\t\t    Google_Stock_Price_Train.csv\n"
          ]
        }
      ]
    },
    {
      "cell_type": "code",
      "source": [
        "#dataset_train = pd.read_csv('/content/drive/MyDrive/fintech code/L8-code/Google_Stock_Price_Train.csv')\n",
        "dataset_train = pd.read_csv('/content/drive/MyDrive/8 Aug 2023/Google_Stock_Price_Train.csv')\n",
        "#dataset_train = pd.read_csv('http://144.214.222.179/HKU/Google_Stock_Price_Train.csv')"
      ],
      "metadata": {
        "id": "sFwyepxHQQOE"
      },
      "execution_count": null,
      "outputs": []
    },
    {
      "cell_type": "markdown",
      "source": [
        "# New Section"
      ],
      "metadata": {
        "id": "k7apl5A0dEse"
      }
    },
    {
      "cell_type": "code",
      "source": [
        "dataset_train.tail()"
      ],
      "metadata": {
        "colab": {
          "base_uri": "https://localhost:8080/",
          "height": 206
        },
        "id": "WUgsbkLyagck",
        "outputId": "1dc7a164-3842-489d-c0e8-d179899eb4b9"
      },
      "execution_count": null,
      "outputs": [
        {
          "output_type": "execute_result",
          "data": {
            "text/plain": [
              "            Date         Open         High          Low        Close   Volume\n",
              "1504  22/12/2017  1061.109985  1064.199951  1059.439941  1060.119995   755100\n",
              "1505  26/12/2017  1058.069946  1060.119995  1050.199951   1056.73999   760600\n",
              "1506  27/12/2017  1057.390015  1058.369995  1048.050049  1049.369995  1271900\n",
              "1507  28/12/2017  1051.599976  1054.750000  1044.770020  1048.140015   837100\n",
              "1508  29/12/2017  1046.719971  1049.699951  1044.900024  1046.400024   887500"
            ],
            "text/html": [
              "\n",
              "  <div id=\"df-ec824673-e984-49fb-af90-60f36561954e\" class=\"colab-df-container\">\n",
              "    <div>\n",
              "<style scoped>\n",
              "    .dataframe tbody tr th:only-of-type {\n",
              "        vertical-align: middle;\n",
              "    }\n",
              "\n",
              "    .dataframe tbody tr th {\n",
              "        vertical-align: top;\n",
              "    }\n",
              "\n",
              "    .dataframe thead th {\n",
              "        text-align: right;\n",
              "    }\n",
              "</style>\n",
              "<table border=\"1\" class=\"dataframe\">\n",
              "  <thead>\n",
              "    <tr style=\"text-align: right;\">\n",
              "      <th></th>\n",
              "      <th>Date</th>\n",
              "      <th>Open</th>\n",
              "      <th>High</th>\n",
              "      <th>Low</th>\n",
              "      <th>Close</th>\n",
              "      <th>Volume</th>\n",
              "    </tr>\n",
              "  </thead>\n",
              "  <tbody>\n",
              "    <tr>\n",
              "      <th>1504</th>\n",
              "      <td>22/12/2017</td>\n",
              "      <td>1061.109985</td>\n",
              "      <td>1064.199951</td>\n",
              "      <td>1059.439941</td>\n",
              "      <td>1060.119995</td>\n",
              "      <td>755100</td>\n",
              "    </tr>\n",
              "    <tr>\n",
              "      <th>1505</th>\n",
              "      <td>26/12/2017</td>\n",
              "      <td>1058.069946</td>\n",
              "      <td>1060.119995</td>\n",
              "      <td>1050.199951</td>\n",
              "      <td>1056.73999</td>\n",
              "      <td>760600</td>\n",
              "    </tr>\n",
              "    <tr>\n",
              "      <th>1506</th>\n",
              "      <td>27/12/2017</td>\n",
              "      <td>1057.390015</td>\n",
              "      <td>1058.369995</td>\n",
              "      <td>1048.050049</td>\n",
              "      <td>1049.369995</td>\n",
              "      <td>1271900</td>\n",
              "    </tr>\n",
              "    <tr>\n",
              "      <th>1507</th>\n",
              "      <td>28/12/2017</td>\n",
              "      <td>1051.599976</td>\n",
              "      <td>1054.750000</td>\n",
              "      <td>1044.770020</td>\n",
              "      <td>1048.140015</td>\n",
              "      <td>837100</td>\n",
              "    </tr>\n",
              "    <tr>\n",
              "      <th>1508</th>\n",
              "      <td>29/12/2017</td>\n",
              "      <td>1046.719971</td>\n",
              "      <td>1049.699951</td>\n",
              "      <td>1044.900024</td>\n",
              "      <td>1046.400024</td>\n",
              "      <td>887500</td>\n",
              "    </tr>\n",
              "  </tbody>\n",
              "</table>\n",
              "</div>\n",
              "    <div class=\"colab-df-buttons\">\n",
              "\n",
              "  <div class=\"colab-df-container\">\n",
              "    <button class=\"colab-df-convert\" onclick=\"convertToInteractive('df-ec824673-e984-49fb-af90-60f36561954e')\"\n",
              "            title=\"Convert this dataframe to an interactive table.\"\n",
              "            style=\"display:none;\">\n",
              "\n",
              "  <svg xmlns=\"http://www.w3.org/2000/svg\" height=\"24px\" viewBox=\"0 -960 960 960\">\n",
              "    <path d=\"M120-120v-720h720v720H120Zm60-500h600v-160H180v160Zm220 220h160v-160H400v160Zm0 220h160v-160H400v160ZM180-400h160v-160H180v160Zm440 0h160v-160H620v160ZM180-180h160v-160H180v160Zm440 0h160v-160H620v160Z\"/>\n",
              "  </svg>\n",
              "    </button>\n",
              "\n",
              "  <style>\n",
              "    .colab-df-container {\n",
              "      display:flex;\n",
              "      gap: 12px;\n",
              "    }\n",
              "\n",
              "    .colab-df-convert {\n",
              "      background-color: #E8F0FE;\n",
              "      border: none;\n",
              "      border-radius: 50%;\n",
              "      cursor: pointer;\n",
              "      display: none;\n",
              "      fill: #1967D2;\n",
              "      height: 32px;\n",
              "      padding: 0 0 0 0;\n",
              "      width: 32px;\n",
              "    }\n",
              "\n",
              "    .colab-df-convert:hover {\n",
              "      background-color: #E2EBFA;\n",
              "      box-shadow: 0px 1px 2px rgba(60, 64, 67, 0.3), 0px 1px 3px 1px rgba(60, 64, 67, 0.15);\n",
              "      fill: #174EA6;\n",
              "    }\n",
              "\n",
              "    .colab-df-buttons div {\n",
              "      margin-bottom: 4px;\n",
              "    }\n",
              "\n",
              "    [theme=dark] .colab-df-convert {\n",
              "      background-color: #3B4455;\n",
              "      fill: #D2E3FC;\n",
              "    }\n",
              "\n",
              "    [theme=dark] .colab-df-convert:hover {\n",
              "      background-color: #434B5C;\n",
              "      box-shadow: 0px 1px 3px 1px rgba(0, 0, 0, 0.15);\n",
              "      filter: drop-shadow(0px 1px 2px rgba(0, 0, 0, 0.3));\n",
              "      fill: #FFFFFF;\n",
              "    }\n",
              "  </style>\n",
              "\n",
              "    <script>\n",
              "      const buttonEl =\n",
              "        document.querySelector('#df-ec824673-e984-49fb-af90-60f36561954e button.colab-df-convert');\n",
              "      buttonEl.style.display =\n",
              "        google.colab.kernel.accessAllowed ? 'block' : 'none';\n",
              "\n",
              "      async function convertToInteractive(key) {\n",
              "        const element = document.querySelector('#df-ec824673-e984-49fb-af90-60f36561954e');\n",
              "        const dataTable =\n",
              "          await google.colab.kernel.invokeFunction('convertToInteractive',\n",
              "                                                    [key], {});\n",
              "        if (!dataTable) return;\n",
              "\n",
              "        const docLinkHtml = 'Like what you see? Visit the ' +\n",
              "          '<a target=\"_blank\" href=https://colab.research.google.com/notebooks/data_table.ipynb>data table notebook</a>'\n",
              "          + ' to learn more about interactive tables.';\n",
              "        element.innerHTML = '';\n",
              "        dataTable['output_type'] = 'display_data';\n",
              "        await google.colab.output.renderOutput(dataTable, element);\n",
              "        const docLink = document.createElement('div');\n",
              "        docLink.innerHTML = docLinkHtml;\n",
              "        element.appendChild(docLink);\n",
              "      }\n",
              "    </script>\n",
              "  </div>\n",
              "\n",
              "\n",
              "<div id=\"df-8c2eea4f-04da-4d81-8f66-44f32e2cde35\">\n",
              "  <button class=\"colab-df-quickchart\" onclick=\"quickchart('df-8c2eea4f-04da-4d81-8f66-44f32e2cde35')\"\n",
              "            title=\"Suggest charts.\"\n",
              "            style=\"display:none;\">\n",
              "\n",
              "<svg xmlns=\"http://www.w3.org/2000/svg\" height=\"24px\"viewBox=\"0 0 24 24\"\n",
              "     width=\"24px\">\n",
              "    <g>\n",
              "        <path d=\"M19 3H5c-1.1 0-2 .9-2 2v14c0 1.1.9 2 2 2h14c1.1 0 2-.9 2-2V5c0-1.1-.9-2-2-2zM9 17H7v-7h2v7zm4 0h-2V7h2v10zm4 0h-2v-4h2v4z\"/>\n",
              "    </g>\n",
              "</svg>\n",
              "  </button>\n",
              "\n",
              "<style>\n",
              "  .colab-df-quickchart {\n",
              "      --bg-color: #E8F0FE;\n",
              "      --fill-color: #1967D2;\n",
              "      --hover-bg-color: #E2EBFA;\n",
              "      --hover-fill-color: #174EA6;\n",
              "      --disabled-fill-color: #AAA;\n",
              "      --disabled-bg-color: #DDD;\n",
              "  }\n",
              "\n",
              "  [theme=dark] .colab-df-quickchart {\n",
              "      --bg-color: #3B4455;\n",
              "      --fill-color: #D2E3FC;\n",
              "      --hover-bg-color: #434B5C;\n",
              "      --hover-fill-color: #FFFFFF;\n",
              "      --disabled-bg-color: #3B4455;\n",
              "      --disabled-fill-color: #666;\n",
              "  }\n",
              "\n",
              "  .colab-df-quickchart {\n",
              "    background-color: var(--bg-color);\n",
              "    border: none;\n",
              "    border-radius: 50%;\n",
              "    cursor: pointer;\n",
              "    display: none;\n",
              "    fill: var(--fill-color);\n",
              "    height: 32px;\n",
              "    padding: 0;\n",
              "    width: 32px;\n",
              "  }\n",
              "\n",
              "  .colab-df-quickchart:hover {\n",
              "    background-color: var(--hover-bg-color);\n",
              "    box-shadow: 0 1px 2px rgba(60, 64, 67, 0.3), 0 1px 3px 1px rgba(60, 64, 67, 0.15);\n",
              "    fill: var(--button-hover-fill-color);\n",
              "  }\n",
              "\n",
              "  .colab-df-quickchart-complete:disabled,\n",
              "  .colab-df-quickchart-complete:disabled:hover {\n",
              "    background-color: var(--disabled-bg-color);\n",
              "    fill: var(--disabled-fill-color);\n",
              "    box-shadow: none;\n",
              "  }\n",
              "\n",
              "  .colab-df-spinner {\n",
              "    border: 2px solid var(--fill-color);\n",
              "    border-color: transparent;\n",
              "    border-bottom-color: var(--fill-color);\n",
              "    animation:\n",
              "      spin 1s steps(1) infinite;\n",
              "  }\n",
              "\n",
              "  @keyframes spin {\n",
              "    0% {\n",
              "      border-color: transparent;\n",
              "      border-bottom-color: var(--fill-color);\n",
              "      border-left-color: var(--fill-color);\n",
              "    }\n",
              "    20% {\n",
              "      border-color: transparent;\n",
              "      border-left-color: var(--fill-color);\n",
              "      border-top-color: var(--fill-color);\n",
              "    }\n",
              "    30% {\n",
              "      border-color: transparent;\n",
              "      border-left-color: var(--fill-color);\n",
              "      border-top-color: var(--fill-color);\n",
              "      border-right-color: var(--fill-color);\n",
              "    }\n",
              "    40% {\n",
              "      border-color: transparent;\n",
              "      border-right-color: var(--fill-color);\n",
              "      border-top-color: var(--fill-color);\n",
              "    }\n",
              "    60% {\n",
              "      border-color: transparent;\n",
              "      border-right-color: var(--fill-color);\n",
              "    }\n",
              "    80% {\n",
              "      border-color: transparent;\n",
              "      border-right-color: var(--fill-color);\n",
              "      border-bottom-color: var(--fill-color);\n",
              "    }\n",
              "    90% {\n",
              "      border-color: transparent;\n",
              "      border-bottom-color: var(--fill-color);\n",
              "    }\n",
              "  }\n",
              "</style>\n",
              "\n",
              "  <script>\n",
              "    async function quickchart(key) {\n",
              "      const quickchartButtonEl =\n",
              "        document.querySelector('#' + key + ' button');\n",
              "      quickchartButtonEl.disabled = true;  // To prevent multiple clicks.\n",
              "      quickchartButtonEl.classList.add('colab-df-spinner');\n",
              "      try {\n",
              "        const charts = await google.colab.kernel.invokeFunction(\n",
              "            'suggestCharts', [key], {});\n",
              "      } catch (error) {\n",
              "        console.error('Error during call to suggestCharts:', error);\n",
              "      }\n",
              "      quickchartButtonEl.classList.remove('colab-df-spinner');\n",
              "      quickchartButtonEl.classList.add('colab-df-quickchart-complete');\n",
              "    }\n",
              "    (() => {\n",
              "      let quickchartButtonEl =\n",
              "        document.querySelector('#df-8c2eea4f-04da-4d81-8f66-44f32e2cde35 button');\n",
              "      quickchartButtonEl.style.display =\n",
              "        google.colab.kernel.accessAllowed ? 'block' : 'none';\n",
              "    })();\n",
              "  </script>\n",
              "</div>\n",
              "    </div>\n",
              "  </div>\n"
            ]
          },
          "metadata": {},
          "execution_count": 5
        }
      ]
    },
    {
      "cell_type": "code",
      "source": [
        "dataset_train.iloc[:, 1: 2]"
      ],
      "metadata": {
        "colab": {
          "base_uri": "https://localhost:8080/",
          "height": 424
        },
        "id": "WUBOb0JS-K0u",
        "outputId": "2533dbd2-1cd0-4fa6-fdb2-958036c4694c"
      },
      "execution_count": null,
      "outputs": [
        {
          "output_type": "execute_result",
          "data": {
            "text/plain": [
              "             Open\n",
              "0      325.250000\n",
              "1      331.270000\n",
              "2      329.830000\n",
              "3      328.340000\n",
              "4      322.040000\n",
              "...           ...\n",
              "1504  1061.109985\n",
              "1505  1058.069946\n",
              "1506  1057.390015\n",
              "1507  1051.599976\n",
              "1508  1046.719971\n",
              "\n",
              "[1509 rows x 1 columns]"
            ],
            "text/html": [
              "\n",
              "  <div id=\"df-c07c6f5a-e184-4318-b41c-f6106481b845\" class=\"colab-df-container\">\n",
              "    <div>\n",
              "<style scoped>\n",
              "    .dataframe tbody tr th:only-of-type {\n",
              "        vertical-align: middle;\n",
              "    }\n",
              "\n",
              "    .dataframe tbody tr th {\n",
              "        vertical-align: top;\n",
              "    }\n",
              "\n",
              "    .dataframe thead th {\n",
              "        text-align: right;\n",
              "    }\n",
              "</style>\n",
              "<table border=\"1\" class=\"dataframe\">\n",
              "  <thead>\n",
              "    <tr style=\"text-align: right;\">\n",
              "      <th></th>\n",
              "      <th>Open</th>\n",
              "    </tr>\n",
              "  </thead>\n",
              "  <tbody>\n",
              "    <tr>\n",
              "      <th>0</th>\n",
              "      <td>325.250000</td>\n",
              "    </tr>\n",
              "    <tr>\n",
              "      <th>1</th>\n",
              "      <td>331.270000</td>\n",
              "    </tr>\n",
              "    <tr>\n",
              "      <th>2</th>\n",
              "      <td>329.830000</td>\n",
              "    </tr>\n",
              "    <tr>\n",
              "      <th>3</th>\n",
              "      <td>328.340000</td>\n",
              "    </tr>\n",
              "    <tr>\n",
              "      <th>4</th>\n",
              "      <td>322.040000</td>\n",
              "    </tr>\n",
              "    <tr>\n",
              "      <th>...</th>\n",
              "      <td>...</td>\n",
              "    </tr>\n",
              "    <tr>\n",
              "      <th>1504</th>\n",
              "      <td>1061.109985</td>\n",
              "    </tr>\n",
              "    <tr>\n",
              "      <th>1505</th>\n",
              "      <td>1058.069946</td>\n",
              "    </tr>\n",
              "    <tr>\n",
              "      <th>1506</th>\n",
              "      <td>1057.390015</td>\n",
              "    </tr>\n",
              "    <tr>\n",
              "      <th>1507</th>\n",
              "      <td>1051.599976</td>\n",
              "    </tr>\n",
              "    <tr>\n",
              "      <th>1508</th>\n",
              "      <td>1046.719971</td>\n",
              "    </tr>\n",
              "  </tbody>\n",
              "</table>\n",
              "<p>1509 rows × 1 columns</p>\n",
              "</div>\n",
              "    <div class=\"colab-df-buttons\">\n",
              "\n",
              "  <div class=\"colab-df-container\">\n",
              "    <button class=\"colab-df-convert\" onclick=\"convertToInteractive('df-c07c6f5a-e184-4318-b41c-f6106481b845')\"\n",
              "            title=\"Convert this dataframe to an interactive table.\"\n",
              "            style=\"display:none;\">\n",
              "\n",
              "  <svg xmlns=\"http://www.w3.org/2000/svg\" height=\"24px\" viewBox=\"0 -960 960 960\">\n",
              "    <path d=\"M120-120v-720h720v720H120Zm60-500h600v-160H180v160Zm220 220h160v-160H400v160Zm0 220h160v-160H400v160ZM180-400h160v-160H180v160Zm440 0h160v-160H620v160ZM180-180h160v-160H180v160Zm440 0h160v-160H620v160Z\"/>\n",
              "  </svg>\n",
              "    </button>\n",
              "\n",
              "  <style>\n",
              "    .colab-df-container {\n",
              "      display:flex;\n",
              "      gap: 12px;\n",
              "    }\n",
              "\n",
              "    .colab-df-convert {\n",
              "      background-color: #E8F0FE;\n",
              "      border: none;\n",
              "      border-radius: 50%;\n",
              "      cursor: pointer;\n",
              "      display: none;\n",
              "      fill: #1967D2;\n",
              "      height: 32px;\n",
              "      padding: 0 0 0 0;\n",
              "      width: 32px;\n",
              "    }\n",
              "\n",
              "    .colab-df-convert:hover {\n",
              "      background-color: #E2EBFA;\n",
              "      box-shadow: 0px 1px 2px rgba(60, 64, 67, 0.3), 0px 1px 3px 1px rgba(60, 64, 67, 0.15);\n",
              "      fill: #174EA6;\n",
              "    }\n",
              "\n",
              "    .colab-df-buttons div {\n",
              "      margin-bottom: 4px;\n",
              "    }\n",
              "\n",
              "    [theme=dark] .colab-df-convert {\n",
              "      background-color: #3B4455;\n",
              "      fill: #D2E3FC;\n",
              "    }\n",
              "\n",
              "    [theme=dark] .colab-df-convert:hover {\n",
              "      background-color: #434B5C;\n",
              "      box-shadow: 0px 1px 3px 1px rgba(0, 0, 0, 0.15);\n",
              "      filter: drop-shadow(0px 1px 2px rgba(0, 0, 0, 0.3));\n",
              "      fill: #FFFFFF;\n",
              "    }\n",
              "  </style>\n",
              "\n",
              "    <script>\n",
              "      const buttonEl =\n",
              "        document.querySelector('#df-c07c6f5a-e184-4318-b41c-f6106481b845 button.colab-df-convert');\n",
              "      buttonEl.style.display =\n",
              "        google.colab.kernel.accessAllowed ? 'block' : 'none';\n",
              "\n",
              "      async function convertToInteractive(key) {\n",
              "        const element = document.querySelector('#df-c07c6f5a-e184-4318-b41c-f6106481b845');\n",
              "        const dataTable =\n",
              "          await google.colab.kernel.invokeFunction('convertToInteractive',\n",
              "                                                    [key], {});\n",
              "        if (!dataTable) return;\n",
              "\n",
              "        const docLinkHtml = 'Like what you see? Visit the ' +\n",
              "          '<a target=\"_blank\" href=https://colab.research.google.com/notebooks/data_table.ipynb>data table notebook</a>'\n",
              "          + ' to learn more about interactive tables.';\n",
              "        element.innerHTML = '';\n",
              "        dataTable['output_type'] = 'display_data';\n",
              "        await google.colab.output.renderOutput(dataTable, element);\n",
              "        const docLink = document.createElement('div');\n",
              "        docLink.innerHTML = docLinkHtml;\n",
              "        element.appendChild(docLink);\n",
              "      }\n",
              "    </script>\n",
              "  </div>\n",
              "\n",
              "\n",
              "<div id=\"df-94e8c251-6031-4b62-bec9-aee9c962fb68\">\n",
              "  <button class=\"colab-df-quickchart\" onclick=\"quickchart('df-94e8c251-6031-4b62-bec9-aee9c962fb68')\"\n",
              "            title=\"Suggest charts.\"\n",
              "            style=\"display:none;\">\n",
              "\n",
              "<svg xmlns=\"http://www.w3.org/2000/svg\" height=\"24px\"viewBox=\"0 0 24 24\"\n",
              "     width=\"24px\">\n",
              "    <g>\n",
              "        <path d=\"M19 3H5c-1.1 0-2 .9-2 2v14c0 1.1.9 2 2 2h14c1.1 0 2-.9 2-2V5c0-1.1-.9-2-2-2zM9 17H7v-7h2v7zm4 0h-2V7h2v10zm4 0h-2v-4h2v4z\"/>\n",
              "    </g>\n",
              "</svg>\n",
              "  </button>\n",
              "\n",
              "<style>\n",
              "  .colab-df-quickchart {\n",
              "      --bg-color: #E8F0FE;\n",
              "      --fill-color: #1967D2;\n",
              "      --hover-bg-color: #E2EBFA;\n",
              "      --hover-fill-color: #174EA6;\n",
              "      --disabled-fill-color: #AAA;\n",
              "      --disabled-bg-color: #DDD;\n",
              "  }\n",
              "\n",
              "  [theme=dark] .colab-df-quickchart {\n",
              "      --bg-color: #3B4455;\n",
              "      --fill-color: #D2E3FC;\n",
              "      --hover-bg-color: #434B5C;\n",
              "      --hover-fill-color: #FFFFFF;\n",
              "      --disabled-bg-color: #3B4455;\n",
              "      --disabled-fill-color: #666;\n",
              "  }\n",
              "\n",
              "  .colab-df-quickchart {\n",
              "    background-color: var(--bg-color);\n",
              "    border: none;\n",
              "    border-radius: 50%;\n",
              "    cursor: pointer;\n",
              "    display: none;\n",
              "    fill: var(--fill-color);\n",
              "    height: 32px;\n",
              "    padding: 0;\n",
              "    width: 32px;\n",
              "  }\n",
              "\n",
              "  .colab-df-quickchart:hover {\n",
              "    background-color: var(--hover-bg-color);\n",
              "    box-shadow: 0 1px 2px rgba(60, 64, 67, 0.3), 0 1px 3px 1px rgba(60, 64, 67, 0.15);\n",
              "    fill: var(--button-hover-fill-color);\n",
              "  }\n",
              "\n",
              "  .colab-df-quickchart-complete:disabled,\n",
              "  .colab-df-quickchart-complete:disabled:hover {\n",
              "    background-color: var(--disabled-bg-color);\n",
              "    fill: var(--disabled-fill-color);\n",
              "    box-shadow: none;\n",
              "  }\n",
              "\n",
              "  .colab-df-spinner {\n",
              "    border: 2px solid var(--fill-color);\n",
              "    border-color: transparent;\n",
              "    border-bottom-color: var(--fill-color);\n",
              "    animation:\n",
              "      spin 1s steps(1) infinite;\n",
              "  }\n",
              "\n",
              "  @keyframes spin {\n",
              "    0% {\n",
              "      border-color: transparent;\n",
              "      border-bottom-color: var(--fill-color);\n",
              "      border-left-color: var(--fill-color);\n",
              "    }\n",
              "    20% {\n",
              "      border-color: transparent;\n",
              "      border-left-color: var(--fill-color);\n",
              "      border-top-color: var(--fill-color);\n",
              "    }\n",
              "    30% {\n",
              "      border-color: transparent;\n",
              "      border-left-color: var(--fill-color);\n",
              "      border-top-color: var(--fill-color);\n",
              "      border-right-color: var(--fill-color);\n",
              "    }\n",
              "    40% {\n",
              "      border-color: transparent;\n",
              "      border-right-color: var(--fill-color);\n",
              "      border-top-color: var(--fill-color);\n",
              "    }\n",
              "    60% {\n",
              "      border-color: transparent;\n",
              "      border-right-color: var(--fill-color);\n",
              "    }\n",
              "    80% {\n",
              "      border-color: transparent;\n",
              "      border-right-color: var(--fill-color);\n",
              "      border-bottom-color: var(--fill-color);\n",
              "    }\n",
              "    90% {\n",
              "      border-color: transparent;\n",
              "      border-bottom-color: var(--fill-color);\n",
              "    }\n",
              "  }\n",
              "</style>\n",
              "\n",
              "  <script>\n",
              "    async function quickchart(key) {\n",
              "      const quickchartButtonEl =\n",
              "        document.querySelector('#' + key + ' button');\n",
              "      quickchartButtonEl.disabled = true;  // To prevent multiple clicks.\n",
              "      quickchartButtonEl.classList.add('colab-df-spinner');\n",
              "      try {\n",
              "        const charts = await google.colab.kernel.invokeFunction(\n",
              "            'suggestCharts', [key], {});\n",
              "      } catch (error) {\n",
              "        console.error('Error during call to suggestCharts:', error);\n",
              "      }\n",
              "      quickchartButtonEl.classList.remove('colab-df-spinner');\n",
              "      quickchartButtonEl.classList.add('colab-df-quickchart-complete');\n",
              "    }\n",
              "    (() => {\n",
              "      let quickchartButtonEl =\n",
              "        document.querySelector('#df-94e8c251-6031-4b62-bec9-aee9c962fb68 button');\n",
              "      quickchartButtonEl.style.display =\n",
              "        google.colab.kernel.accessAllowed ? 'block' : 'none';\n",
              "    })();\n",
              "  </script>\n",
              "</div>\n",
              "    </div>\n",
              "  </div>\n"
            ]
          },
          "metadata": {},
          "execution_count": 6
        }
      ]
    },
    {
      "cell_type": "code",
      "source": [
        "#keras only takes numpy array\n",
        "training_set = dataset_train.iloc[:, 1: 2].values"
      ],
      "metadata": {
        "id": "WQ9X2kcj-VbM"
      },
      "execution_count": null,
      "outputs": []
    },
    {
      "cell_type": "code",
      "source": [
        "training_set.shape"
      ],
      "metadata": {
        "colab": {
          "base_uri": "https://localhost:8080/"
        },
        "id": "odwtbT2h-oZN",
        "outputId": "118b6b94-80dd-4cf7-8744-622e5c839655"
      },
      "execution_count": null,
      "outputs": [
        {
          "output_type": "execute_result",
          "data": {
            "text/plain": [
              "(1509, 1)"
            ]
          },
          "metadata": {},
          "execution_count": 8
        }
      ]
    },
    {
      "cell_type": "code",
      "source": [
        "training_set\n"
      ],
      "metadata": {
        "colab": {
          "base_uri": "https://localhost:8080/"
        },
        "id": "RUzKg0QR-swt",
        "outputId": "a256f2b7-e861-419e-fe57-831a2516160b"
      },
      "execution_count": null,
      "outputs": [
        {
          "output_type": "execute_result",
          "data": {
            "text/plain": [
              "array([[ 325.25    ],\n",
              "       [ 331.27    ],\n",
              "       [ 329.83    ],\n",
              "       ...,\n",
              "       [1057.390015],\n",
              "       [1051.599976],\n",
              "       [1046.719971]])"
            ]
          },
          "metadata": {},
          "execution_count": 9
        }
      ]
    },
    {
      "cell_type": "code",
      "source": [
        "plt.figure(figsize=(18, 8))\n",
        "plt.plot(dataset_train['Open'])\n",
        "plt.title(\"Google Stock Open Prices\")\n",
        "plt.xlabel(\"Time (oldest -> latest)\")\n",
        "plt.ylabel(\"Stock Open Price\")\n",
        "plt.show()"
      ],
      "metadata": {
        "colab": {
          "base_uri": "https://localhost:8080/",
          "height": 718
        },
        "id": "Gm3kInIS-vrO",
        "outputId": "d2c223a2-43cd-4664-8bd6-26a57657818c"
      },
      "execution_count": null,
      "outputs": [
        {
          "output_type": "display_data",
          "data": {
            "text/plain": [
              "<Figure size 1800x800 with 1 Axes>"
            ],
            "image/png": "[encoded data removed]"
          },
          "metadata": {}
        }
      ]
    },
    {
      "cell_type": "code",
      "source": [
        "import os\n",
        "if os.path.exists('config.py'):\n",
        "    print(1)\n",
        "else:\n",
        "    print(0)"
      ],
      "metadata": {
        "colab": {
          "base_uri": "https://localhost:8080/"
        },
        "id": "N5UVmSgF-9A-",
        "outputId": "5225c853-ef20-42b2-ad83-72c87a06ddfb"
      },
      "execution_count": null,
      "outputs": [
        {
          "output_type": "stream",
          "name": "stdout",
          "text": [
            "0\n"
          ]
        }
      ]
    },
    {
      "cell_type": "code",
      "source": [
        "sc = MinMaxScaler(feature_range = (0, 1))\n",
        "#fit: get min/max of train data\n",
        "training_set_scaled = sc.fit_transform(training_set)"
      ],
      "metadata": {
        "id": "eDbn98s6_Hfg"
      },
      "execution_count": null,
      "outputs": []
    },
    {
      "cell_type": "code",
      "source": [
        "training_set_scaled.shape"
      ],
      "metadata": {
        "colab": {
          "base_uri": "https://localhost:8080/"
        },
        "id": "wgvbtMh1_SQL",
        "outputId": "34ce3bba-236e-4239-e7c7-2f79234c372b"
      },
      "execution_count": null,
      "outputs": [
        {
          "output_type": "execute_result",
          "data": {
            "text/plain": [
              "(1509, 1)"
            ]
          },
          "metadata": {},
          "execution_count": 13
        }
      ]
    },
    {
      "cell_type": "markdown",
      "source": [
        "Data structure creation\n",
        "\n",
        "taking the reference of past 60 days of data to predict the future stock price.\n",
        "It is observed that taking 60 days of past data gives us best results.\n",
        "\n",
        "In this data set 60 days of data means 3 months of data.\n",
        "Every month as 20 days of Stock price.\n",
        "\n",
        "X train will have data of 60 days prior to our date and y train will have data of one day after our date"
      ],
      "metadata": {
        "id": "ta6MloLi_vKd"
      }
    },
    {
      "cell_type": "code",
      "source": [
        "## 60 timesteps and 1 output\n",
        "X_train = []\n",
        "y_train = []\n",
        "for i in range(60, len(training_set_scaled)):\n",
        "    X_train.append(training_set_scaled[i-60: i, 0])\n",
        "    y_train.append(training_set_scaled[i, 0])\n",
        "\n",
        "X_train, y_train = np.array(X_train), np.array(y_train)"
      ],
      "metadata": {
        "id": "OH03JnRE_wVj"
      },
      "execution_count": null,
      "outputs": []
    },
    {
      "cell_type": "code",
      "source": [
        "X_train.shape"
      ],
      "metadata": {
        "colab": {
          "base_uri": "https://localhost:8080/"
        },
        "id": "tQfrQGjaAGxd",
        "outputId": "a9d0c2b0-ba3c-4c2e-af91-947fb3f42fdd"
      },
      "execution_count": null,
      "outputs": [
        {
          "output_type": "execute_result",
          "data": {
            "text/plain": [
              "(1449, 60)"
            ]
          },
          "metadata": {},
          "execution_count": 15
        }
      ]
    },
    {
      "cell_type": "code",
      "source": [
        "y_train.shape"
      ],
      "metadata": {
        "colab": {
          "base_uri": "https://localhost:8080/"
        },
        "id": "gV224R2vAWU1",
        "outputId": "0c64a3f3-78f8-4975-a926-12bad07bf35a"
      },
      "execution_count": null,
      "outputs": [
        {
          "output_type": "execute_result",
          "data": {
            "text/plain": [
              "(1449,)"
            ]
          },
          "metadata": {},
          "execution_count": 16
        }
      ]
    },
    {
      "cell_type": "markdown",
      "source": [
        "Data reshaping"
      ],
      "metadata": {
        "id": "Tk-L2Ct-BpWh"
      }
    },
    {
      "cell_type": "code",
      "source": [
        "X_train = np.reshape(X_train, newshape =\n",
        "                     (X_train.shape[0], X_train.shape[1], 1))"
      ],
      "metadata": {
        "id": "o1MtAzRpBp5e"
      },
      "execution_count": null,
      "outputs": []
    },
    {
      "cell_type": "markdown",
      "source": [
        "1. Number of stock prices - 1449\n",
        "2. Number of time steps - 60\n",
        "3. Number of Indicator - 1"
      ],
      "metadata": {
        "id": "a5bX40_fB06O"
      }
    },
    {
      "cell_type": "code",
      "source": [
        "X_train.shape"
      ],
      "metadata": {
        "colab": {
          "base_uri": "https://localhost:8080/"
        },
        "id": "N3XPhUQWCAOR",
        "outputId": "027f1ce5-dd7f-48dc-94d7-f48e1f18c862"
      },
      "execution_count": null,
      "outputs": [
        {
          "output_type": "execute_result",
          "data": {
            "text/plain": [
              "(1449, 60, 1)"
            ]
          },
          "metadata": {},
          "execution_count": 18
        }
      ]
    },
    {
      "cell_type": "markdown",
      "source": [
        "Create mode"
      ],
      "metadata": {
        "id": "ItjnD1P4CPeV"
      }
    },
    {
      "cell_type": "code",
      "source": [
        "regressor = Sequential()\n",
        "#add 1st lstm layer\n",
        "regressor.add(LSTM(units = 50, return_sequences = True, input_shape = (X_train.shape[1], 1)))\n",
        "regressor.add(Dropout(rate = 0.2))\n",
        "\n",
        "##add 2nd lstm layer: 50 neurons\n",
        "regressor.add(LSTM(units = 50, return_sequences = True))\n",
        "regressor.add(Dropout(rate = 0.2))\n",
        "\n",
        "##add 3rd lstm layer\n",
        "regressor.add(LSTM(units = 50, return_sequences = True))\n",
        "regressor.add(Dropout(rate = 0.2))\n",
        "\n",
        "##add 4th lstm layer\n",
        "regressor.add(LSTM(units = 50, return_sequences = False))\n",
        "regressor.add(Dropout(rate = 0.2))\n",
        "\n",
        "##add output layer\n",
        "regressor.add(Dense(units = 1))"
      ],
      "metadata": {
        "id": "qCMGIqd3CEaM"
      },
      "execution_count": null,
      "outputs": []
    },
    {
      "cell_type": "code",
      "source": [
        "regressor.compile(optimizer = 'adam', loss = 'mean_squared_error')"
      ],
      "metadata": {
        "id": "T6ZqsVrGCXVo"
      },
      "execution_count": null,
      "outputs": []
    },
    {
      "cell_type": "markdown",
      "source": [
        "Model fit"
      ],
      "metadata": {
        "id": "-Oqb0drICrDH"
      }
    },
    {
      "cell_type": "code",
      "source": [
        "regressor.fit(x = X_train, y = y_train, batch_size = 32, epochs = 100)"
      ],
      "metadata": {
        "colab": {
          "base_uri": "https://localhost:8080/"
        },
        "id": "yLJIADVDCi6S",
        "outputId": "8910530e-39cf-4c40-b8bf-89ed57121a1e"
      },
      "execution_count": null,
      "outputs": [
        {
          "output_type": "stream",
          "name": "stdout",
          "text": [
            "Epoch 1/100\n",
            "46/46 [==============================] - 16s 127ms/step - loss: 0.0309\n",
            "Epoch 2/100\n",
            "46/46 [==============================] - 7s 150ms/step - loss: 0.0036\n",
            "Epoch 3/100\n",
            "46/46 [==============================] - 7s 150ms/step - loss: 0.0036\n",
            "Epoch 4/100\n",
            "46/46 [==============================] - 6s 128ms/step - loss: 0.0033\n",
            "Epoch 5/100\n",
            "46/46 [==============================] - 8s 164ms/step - loss: 0.0033\n",
            "Epoch 6/100\n",
            "46/46 [==============================] - 8s 182ms/step - loss: 0.0031\n",
            "Epoch 7/100\n",
            "46/46 [==============================] - 7s 153ms/step - loss: 0.0029\n",
            "Epoch 8/100\n",
            "46/46 [==============================] - 6s 125ms/step - loss: 0.0026\n",
            "Epoch 9/100\n",
            "46/46 [==============================] - 8s 169ms/step - loss: 0.0033\n",
            "Epoch 10/100\n",
            "46/46 [==============================] - 6s 128ms/step - loss: 0.0030\n",
            "Epoch 11/100\n",
            "46/46 [==============================] - 8s 173ms/step - loss: 0.0027\n",
            "Epoch 12/100\n",
            "46/46 [==============================] - 6s 131ms/step - loss: 0.0025\n",
            "Epoch 13/100\n",
            "46/46 [==============================] - 10s 213ms/step - loss: 0.0024\n",
            "Epoch 14/100\n",
            "46/46 [==============================] - 6s 126ms/step - loss: 0.0026\n",
            "Epoch 15/100\n",
            "46/46 [==============================] - 7s 143ms/step - loss: 0.0024\n",
            "Epoch 16/100\n",
            "46/46 [==============================] - 7s 152ms/step - loss: 0.0026\n",
            "Epoch 17/100\n",
            "46/46 [==============================] - 6s 128ms/step - loss: 0.0026\n",
            "Epoch 18/100\n",
            "46/46 [==============================] - 8s 169ms/step - loss: 0.0027\n",
            "Epoch 19/100\n",
            "46/46 [==============================] - 6s 125ms/step - loss: 0.0024\n",
            "Epoch 20/100\n",
            "46/46 [==============================] - 8s 168ms/step - loss: 0.0021\n",
            "Epoch 21/100\n",
            "46/46 [==============================] - 6s 128ms/step - loss: 0.0022\n",
            "Epoch 22/100\n",
            "46/46 [==============================] - 7s 162ms/step - loss: 0.0022\n",
            "Epoch 23/100\n",
            "46/46 [==============================] - 6s 126ms/step - loss: 0.0021\n",
            "Epoch 24/100\n",
            "46/46 [==============================] - 7s 147ms/step - loss: 0.0018\n",
            "Epoch 25/100\n",
            "46/46 [==============================] - 7s 145ms/step - loss: 0.0020\n",
            "Epoch 26/100\n",
            "46/46 [==============================] - 6s 126ms/step - loss: 0.0019\n",
            "Epoch 27/100\n",
            "46/46 [==============================] - 8s 163ms/step - loss: 0.0020\n",
            "Epoch 28/100\n",
            "46/46 [==============================] - 6s 128ms/step - loss: 0.0019\n",
            "Epoch 29/100\n",
            "46/46 [==============================] - 8s 168ms/step - loss: 0.0020\n",
            "Epoch 30/100\n",
            "46/46 [==============================] - 6s 126ms/step - loss: 0.0018\n",
            "Epoch 31/100\n",
            "46/46 [==============================] - 8s 173ms/step - loss: 0.0018\n",
            "Epoch 32/100\n",
            "46/46 [==============================] - 6s 131ms/step - loss: 0.0017\n",
            "Epoch 33/100\n",
            "46/46 [==============================] - 8s 164ms/step - loss: 0.0018\n",
            "Epoch 34/100\n",
            "46/46 [==============================] - 6s 132ms/step - loss: 0.0018\n",
            "Epoch 35/100\n",
            "46/46 [==============================] - 7s 144ms/step - loss: 0.0015\n",
            "Epoch 36/100\n",
            "46/46 [==============================] - 7s 147ms/step - loss: 0.0017\n",
            "Epoch 37/100\n",
            "46/46 [==============================] - 6s 129ms/step - loss: 0.0021\n",
            "Epoch 38/100\n",
            "46/46 [==============================] - 8s 171ms/step - loss: 0.0020\n",
            "Epoch 39/100\n",
            "46/46 [==============================] - 5s 119ms/step - loss: 0.0017\n",
            "Epoch 40/100\n",
            "46/46 [==============================] - 8s 172ms/step - loss: 0.0016\n",
            "Epoch 41/100\n",
            "46/46 [==============================] - 6s 130ms/step - loss: 0.0016\n",
            "Epoch 42/100\n",
            "46/46 [==============================] - 8s 168ms/step - loss: 0.0017\n",
            "Epoch 43/100\n",
            "46/46 [==============================] - 6s 131ms/step - loss: 0.0014\n",
            "Epoch 44/100\n",
            "46/46 [==============================] - 7s 163ms/step - loss: 0.0017\n",
            "Epoch 45/100\n",
            "46/46 [==============================] - 6s 134ms/step - loss: 0.0015\n",
            "Epoch 46/100\n",
            "46/46 [==============================] - 7s 142ms/step - loss: 0.0017\n",
            "Epoch 47/100\n",
            "46/46 [==============================] - 7s 153ms/step - loss: 0.0016\n",
            "Epoch 48/100\n",
            "46/46 [==============================] - 6s 126ms/step - loss: 0.0015\n",
            "Epoch 49/100\n",
            "46/46 [==============================] - 8s 172ms/step - loss: 0.0014\n",
            "Epoch 50/100\n",
            "46/46 [==============================] - 6s 128ms/step - loss: 0.0015\n",
            "Epoch 51/100\n",
            "46/46 [==============================] - 8s 173ms/step - loss: 0.0014\n",
            "Epoch 52/100\n",
            "46/46 [==============================] - 7s 150ms/step - loss: 0.0015\n",
            "Epoch 53/100\n",
            "46/46 [==============================] - 9s 189ms/step - loss: 0.0014\n",
            "Epoch 54/100\n",
            "46/46 [==============================] - 6s 128ms/step - loss: 0.0015\n",
            "Epoch 55/100\n",
            "46/46 [==============================] - 8s 172ms/step - loss: 0.0013\n",
            "Epoch 56/100\n",
            "46/46 [==============================] - 6s 127ms/step - loss: 0.0014\n",
            "Epoch 57/100\n",
            "46/46 [==============================] - 7s 158ms/step - loss: 0.0013\n",
            "Epoch 58/100\n",
            "46/46 [==============================] - 7s 144ms/step - loss: 0.0015\n",
            "Epoch 59/100\n",
            "46/46 [==============================] - 7s 142ms/step - loss: 0.0015\n",
            "Epoch 60/100\n",
            "46/46 [==============================] - 7s 149ms/step - loss: 0.0013\n",
            "Epoch 61/100\n",
            "46/46 [==============================] - 6s 121ms/step - loss: 0.0013\n",
            "Epoch 62/100\n",
            "46/46 [==============================] - 8s 171ms/step - loss: 0.0012\n",
            "Epoch 63/100\n",
            "46/46 [==============================] - 6s 129ms/step - loss: 0.0012\n",
            "Epoch 64/100\n",
            "46/46 [==============================] - 8s 170ms/step - loss: 0.0012\n",
            "Epoch 65/100\n",
            "46/46 [==============================] - 6s 123ms/step - loss: 0.0011\n",
            "Epoch 66/100\n",
            "46/46 [==============================] - 7s 164ms/step - loss: 0.0013\n",
            "Epoch 67/100\n",
            "46/46 [==============================] - 6s 128ms/step - loss: 0.0012\n",
            "Epoch 68/100\n",
            "46/46 [==============================] - 7s 150ms/step - loss: 0.0013\n",
            "Epoch 69/100\n",
            "46/46 [==============================] - 7s 145ms/step - loss: 0.0012\n",
            "Epoch 70/100\n",
            "46/46 [==============================] - 6s 135ms/step - loss: 0.0013\n",
            "Epoch 71/100\n",
            "46/46 [==============================] - 8s 163ms/step - loss: 0.0013\n",
            "Epoch 72/100\n",
            "46/46 [==============================] - 6s 125ms/step - loss: 0.0012\n",
            "Epoch 73/100\n",
            "46/46 [==============================] - 8s 168ms/step - loss: 0.0012\n",
            "Epoch 74/100\n",
            "46/46 [==============================] - 6s 128ms/step - loss: 0.0013\n",
            "Epoch 75/100\n",
            "46/46 [==============================] - 8s 165ms/step - loss: 0.0011\n",
            "Epoch 76/100\n",
            "46/46 [==============================] - 6s 126ms/step - loss: 0.0010\n",
            "Epoch 77/100\n",
            "46/46 [==============================] - 7s 160ms/step - loss: 9.4060e-04\n",
            "Epoch 78/100\n",
            "46/46 [==============================] - 6s 135ms/step - loss: 0.0011\n",
            "Epoch 79/100\n",
            "46/46 [==============================] - 7s 144ms/step - loss: 0.0010\n",
            "Epoch 80/100\n",
            "46/46 [==============================] - 7s 153ms/step - loss: 0.0010\n",
            "Epoch 81/100\n",
            "46/46 [==============================] - 6s 125ms/step - loss: 0.0010\n",
            "Epoch 82/100\n",
            "46/46 [==============================] - 8s 166ms/step - loss: 0.0010\n",
            "Epoch 83/100\n",
            "46/46 [==============================] - 6s 122ms/step - loss: 0.0010\n",
            "Epoch 84/100\n",
            "46/46 [==============================] - 8s 172ms/step - loss: 0.0010\n",
            "Epoch 85/100\n",
            "46/46 [==============================] - 6s 127ms/step - loss: 0.0010\n",
            "Epoch 86/100\n",
            "46/46 [==============================] - 8s 173ms/step - loss: 0.0011\n",
            "Epoch 87/100\n",
            "46/46 [==============================] - 6s 127ms/step - loss: 0.0010\n",
            "Epoch 88/100\n",
            "46/46 [==============================] - 7s 143ms/step - loss: 9.3259e-04\n",
            "Epoch 89/100\n",
            "46/46 [==============================] - 7s 142ms/step - loss: 9.8621e-04\n",
            "Epoch 90/100\n",
            "46/46 [==============================] - 6s 126ms/step - loss: 9.7954e-04\n",
            "Epoch 91/100\n",
            "46/46 [==============================] - 8s 167ms/step - loss: 0.0010\n",
            "Epoch 92/100\n",
            "46/46 [==============================] - 7s 150ms/step - loss: 9.0604e-04\n",
            "Epoch 93/100\n",
            "46/46 [==============================] - 9s 196ms/step - loss: 9.4796e-04\n",
            "Epoch 94/100\n",
            "46/46 [==============================] - 6s 125ms/step - loss: 9.5074e-04\n",
            "Epoch 95/100\n",
            "46/46 [==============================] - 8s 170ms/step - loss: 9.5443e-04\n",
            "Epoch 96/100\n",
            "46/46 [==============================] - 6s 126ms/step - loss: 8.6938e-04\n",
            "Epoch 97/100\n",
            "46/46 [==============================] - 7s 155ms/step - loss: 0.0010\n",
            "Epoch 98/100\n",
            "46/46 [==============================] - 6s 136ms/step - loss: 9.7401e-04\n",
            "Epoch 99/100\n",
            "46/46 [==============================] - 6s 138ms/step - loss: 9.6817e-04\n",
            "Epoch 100/100\n",
            "46/46 [==============================] - 7s 154ms/step - loss: 8.5799e-04\n"
          ]
        },
        {
          "output_type": "execute_result",
          "data": {
            "text/plain": [
              "<keras.src.callbacks.History at 0x7b2859fa0250>"
            ]
          },
          "metadata": {},
          "execution_count": 21
        }
      ]
    },
    {
      "cell_type": "markdown",
      "source": [
        "Model evaluation"
      ],
      "metadata": {
        "id": "2X5OmFt5FAeT"
      }
    },
    {
      "cell_type": "markdown",
      "source": [
        "Read test data"
      ],
      "metadata": {
        "id": "eVgbXsTFFH5_"
      }
    },
    {
      "cell_type": "code",
      "source": [
        "dataset_test = pd.read_csv('/content/drive/MyDrive/8 Aug 2023/Google_Stock_Price_Test.csv')\n",
        "#dataset_test = pd.read_csv('http://144.214.222.179/HKU/Google_Stock_Price_Test.csv')"
      ],
      "metadata": {
        "id": "Z-F-FRV8Cwkt"
      },
      "execution_count": null,
      "outputs": []
    },
    {
      "cell_type": "code",
      "source": [
        "dataset_test.head()"
      ],
      "metadata": {
        "colab": {
          "base_uri": "https://localhost:8080/"
        },
        "id": "KsRh4LjnFcBt",
        "outputId": "f030f50a-a810-4858-a201-0fe91faf9bd3"
      },
      "execution_count": null,
      "outputs": [
        {
          "output_type": "execute_result",
          "data": {
            "text/plain": [
              "         Date         Open         High          Low        Close   Volume\n",
              "0  02/01/2018  1048.339966  1066.939941  1045.229980  1065.000000  1237600\n",
              "1  03/01/2018  1064.310059  1086.290039  1063.209961  1082.479980  1430200\n",
              "2  04/01/2018  1088.000000  1093.569946  1084.001953  1086.400024  1004600\n",
              "3  05/01/2018  1094.000000  1104.250000  1092.000000  1102.229980  1279100\n",
              "4  08/01/2018  1102.229980  1111.270020  1101.619995  1106.939941  1047600"
            ],
            "text/html": [
              "\n",
              "  <div id=\"df-cba20c7c-eb60-4c76-9f01-94aa1d66fcab\" class=\"colab-df-container\">\n",
              "    <div>\n",
              "<style scoped>\n",
              "    .dataframe tbody tr th:only-of-type {\n",
              "        vertical-align: middle;\n",
              "    }\n",
              "\n",
              "    .dataframe tbody tr th {\n",
              "        vertical-align: top;\n",
              "    }\n",
              "\n",
              "    .dataframe thead th {\n",
              "        text-align: right;\n",
              "    }\n",
              "</style>\n",
              "<table border=\"1\" class=\"dataframe\">\n",
              "  <thead>\n",
              "    <tr style=\"text-align: right;\">\n",
              "      <th></th>\n",
              "      <th>Date</th>\n",
              "      <th>Open</th>\n",
              "      <th>High</th>\n",
              "      <th>Low</th>\n",
              "      <th>Close</th>\n",
              "      <th>Volume</th>\n",
              "    </tr>\n",
              "  </thead>\n",
              "  <tbody>\n",
              "    <tr>\n",
              "      <th>0</th>\n",
              "      <td>02/01/2018</td>\n",
              "      <td>1048.339966</td>\n",
              "      <td>1066.939941</td>\n",
              "      <td>1045.229980</td>\n",
              "      <td>1065.000000</td>\n",
              "      <td>1237600</td>\n",
              "    </tr>\n",
              "    <tr>\n",
              "      <th>1</th>\n",
              "      <td>03/01/2018</td>\n",
              "      <td>1064.310059</td>\n",
              "      <td>1086.290039</td>\n",
              "      <td>1063.209961</td>\n",
              "      <td>1082.479980</td>\n",
              "      <td>1430200</td>\n",
              "    </tr>\n",
              "    <tr>\n",
              "      <th>2</th>\n",
              "      <td>04/01/2018</td>\n",
              "      <td>1088.000000</td>\n",
              "      <td>1093.569946</td>\n",
              "      <td>1084.001953</td>\n",
              "      <td>1086.400024</td>\n",
              "      <td>1004600</td>\n",
              "    </tr>\n",
              "    <tr>\n",
              "      <th>3</th>\n",
              "      <td>05/01/2018</td>\n",
              "      <td>1094.000000</td>\n",
              "      <td>1104.250000</td>\n",
              "      <td>1092.000000</td>\n",
              "      <td>1102.229980</td>\n",
              "      <td>1279100</td>\n",
              "    </tr>\n",
              "    <tr>\n",
              "      <th>4</th>\n",
              "      <td>08/01/2018</td>\n",
              "      <td>1102.229980</td>\n",
              "      <td>1111.270020</td>\n",
              "      <td>1101.619995</td>\n",
              "      <td>1106.939941</td>\n",
              "      <td>1047600</td>\n",
              "    </tr>\n",
              "  </tbody>\n",
              "</table>\n",
              "</div>\n",
              "    <div class=\"colab-df-buttons\">\n",
              "\n",
              "  <div class=\"colab-df-container\">\n",
              "    <button class=\"colab-df-convert\" onclick=\"convertToInteractive('df-cba20c7c-eb60-4c76-9f01-94aa1d66fcab')\"\n",
              "            title=\"Convert this dataframe to an interactive table.\"\n",
              "            style=\"display:none;\">\n",
              "\n",
              "  <svg xmlns=\"http://www.w3.org/2000/svg\" height=\"24px\" viewBox=\"0 -960 960 960\">\n",
              "    <path d=\"M120-120v-720h720v720H120Zm60-500h600v-160H180v160Zm220 220h160v-160H400v160Zm0 220h160v-160H400v160ZM180-400h160v-160H180v160Zm440 0h160v-160H620v160ZM180-180h160v-160H180v160Zm440 0h160v-160H620v160Z\"/>\n",
              "  </svg>\n",
              "    </button>\n",
              "\n",
              "  <style>\n",
              "    .colab-df-container {\n",
              "      display:flex;\n",
              "      gap: 12px;\n",
              "    }\n",
              "\n",
              "    .colab-df-convert {\n",
              "      background-color: #E8F0FE;\n",
              "      border: none;\n",
              "      border-radius: 50%;\n",
              "      cursor: pointer;\n",
              "      display: none;\n",
              "      fill: #1967D2;\n",
              "      height: 32px;\n",
              "      padding: 0 0 0 0;\n",
              "      width: 32px;\n",
              "    }\n",
              "\n",
              "    .colab-df-convert:hover {\n",
              "      background-color: #E2EBFA;\n",
              "      box-shadow: 0px 1px 2px rgba(60, 64, 67, 0.3), 0px 1px 3px 1px rgba(60, 64, 67, 0.15);\n",
              "      fill: #174EA6;\n",
              "    }\n",
              "\n",
              "    .colab-df-buttons div {\n",
              "      margin-bottom: 4px;\n",
              "    }\n",
              "\n",
              "    [theme=dark] .colab-df-convert {\n",
              "      background-color: #3B4455;\n",
              "      fill: #D2E3FC;\n",
              "    }\n",
              "\n",
              "    [theme=dark] .colab-df-convert:hover {\n",
              "      background-color: #434B5C;\n",
              "      box-shadow: 0px 1px 3px 1px rgba(0, 0, 0, 0.15);\n",
              "      filter: drop-shadow(0px 1px 2px rgba(0, 0, 0, 0.3));\n",
              "      fill: #FFFFFF;\n",
              "    }\n",
              "  </style>\n",
              "\n",
              "    <script>\n",
              "      const buttonEl =\n",
              "        document.querySelector('#df-cba20c7c-eb60-4c76-9f01-94aa1d66fcab button.colab-df-convert');\n",
              "      buttonEl.style.display =\n",
              "        google.colab.kernel.accessAllowed ? 'block' : 'none';\n",
              "\n",
              "      async function convertToInteractive(key) {\n",
              "        const element = document.querySelector('#df-cba20c7c-eb60-4c76-9f01-94aa1d66fcab');\n",
              "        const dataTable =\n",
              "          await google.colab.kernel.invokeFunction('convertToInteractive',\n",
              "                                                    [key], {});\n",
              "        if (!dataTable) return;\n",
              "\n",
              "        const docLinkHtml = 'Like what you see? Visit the ' +\n",
              "          '<a target=\"_blank\" href=https://colab.research.google.com/notebooks/data_table.ipynb>data table notebook</a>'\n",
              "          + ' to learn more about interactive tables.';\n",
              "        element.innerHTML = '';\n",
              "        dataTable['output_type'] = 'display_data';\n",
              "        await google.colab.output.renderOutput(dataTable, element);\n",
              "        const docLink = document.createElement('div');\n",
              "        docLink.innerHTML = docLinkHtml;\n",
              "        element.appendChild(docLink);\n",
              "      }\n",
              "    </script>\n",
              "  </div>\n",
              "\n",
              "\n",
              "<div id=\"df-ead693f3-fb94-47b2-aa2d-d4e30c87d6dc\">\n",
              "  <button class=\"colab-df-quickchart\" onclick=\"quickchart('df-ead693f3-fb94-47b2-aa2d-d4e30c87d6dc')\"\n",
              "            title=\"Suggest charts.\"\n",
              "            style=\"display:none;\">\n",
              "\n",
              "<svg xmlns=\"http://www.w3.org/2000/svg\" height=\"24px\"viewBox=\"0 0 24 24\"\n",
              "     width=\"24px\">\n",
              "    <g>\n",
              "        <path d=\"M19 3H5c-1.1 0-2 .9-2 2v14c0 1.1.9 2 2 2h14c1.1 0 2-.9 2-2V5c0-1.1-.9-2-2-2zM9 17H7v-7h2v7zm4 0h-2V7h2v10zm4 0h-2v-4h2v4z\"/>\n",
              "    </g>\n",
              "</svg>\n",
              "  </button>\n",
              "\n",
              "<style>\n",
              "  .colab-df-quickchart {\n",
              "      --bg-color: #E8F0FE;\n",
              "      --fill-color: #1967D2;\n",
              "      --hover-bg-color: #E2EBFA;\n",
              "      --hover-fill-color: #174EA6;\n",
              "      --disabled-fill-color: #AAA;\n",
              "      --disabled-bg-color: #DDD;\n",
              "  }\n",
              "\n",
              "  [theme=dark] .colab-df-quickchart {\n",
              "      --bg-color: #3B4455;\n",
              "      --fill-color: #D2E3FC;\n",
              "      --hover-bg-color: #434B5C;\n",
              "      --hover-fill-color: #FFFFFF;\n",
              "      --disabled-bg-color: #3B4455;\n",
              "      --disabled-fill-color: #666;\n",
              "  }\n",
              "\n",
              "  .colab-df-quickchart {\n",
              "    background-color: var(--bg-color);\n",
              "    border: none;\n",
              "    border-radius: 50%;\n",
              "    cursor: pointer;\n",
              "    display: none;\n",
              "    fill: var(--fill-color);\n",
              "    height: 32px;\n",
              "    padding: 0;\n",
              "    width: 32px;\n",
              "  }\n",
              "\n",
              "  .colab-df-quickchart:hover {\n",
              "    background-color: var(--hover-bg-color);\n",
              "    box-shadow: 0 1px 2px rgba(60, 64, 67, 0.3), 0 1px 3px 1px rgba(60, 64, 67, 0.15);\n",
              "    fill: var(--button-hover-fill-color);\n",
              "  }\n",
              "\n",
              "  .colab-df-quickchart-complete:disabled,\n",
              "  .colab-df-quickchart-complete:disabled:hover {\n",
              "    background-color: var(--disabled-bg-color);\n",
              "    fill: var(--disabled-fill-color);\n",
              "    box-shadow: none;\n",
              "  }\n",
              "\n",
              "  .colab-df-spinner {\n",
              "    border: 2px solid var(--fill-color);\n",
              "    border-color: transparent;\n",
              "    border-bottom-color: var(--fill-color);\n",
              "    animation:\n",
              "      spin 1s steps(1) infinite;\n",
              "  }\n",
              "\n",
              "  @keyframes spin {\n",
              "    0% {\n",
              "      border-color: transparent;\n",
              "      border-bottom-color: var(--fill-color);\n",
              "      border-left-color: var(--fill-color);\n",
              "    }\n",
              "    20% {\n",
              "      border-color: transparent;\n",
              "      border-left-color: var(--fill-color);\n",
              "      border-top-color: var(--fill-color);\n",
              "    }\n",
              "    30% {\n",
              "      border-color: transparent;\n",
              "      border-left-color: var(--fill-color);\n",
              "      border-top-color: var(--fill-color);\n",
              "      border-right-color: var(--fill-color);\n",
              "    }\n",
              "    40% {\n",
              "      border-color: transparent;\n",
              "      border-right-color: var(--fill-color);\n",
              "      border-top-color: var(--fill-color);\n",
              "    }\n",
              "    60% {\n",
              "      border-color: transparent;\n",
              "      border-right-color: var(--fill-color);\n",
              "    }\n",
              "    80% {\n",
              "      border-color: transparent;\n",
              "      border-right-color: var(--fill-color);\n",
              "      border-bottom-color: var(--fill-color);\n",
              "    }\n",
              "    90% {\n",
              "      border-color: transparent;\n",
              "      border-bottom-color: var(--fill-color);\n",
              "    }\n",
              "  }\n",
              "</style>\n",
              "\n",
              "  <script>\n",
              "    async function quickchart(key) {\n",
              "      const quickchartButtonEl =\n",
              "        document.querySelector('#' + key + ' button');\n",
              "      quickchartButtonEl.disabled = true;  // To prevent multiple clicks.\n",
              "      quickchartButtonEl.classList.add('colab-df-spinner');\n",
              "      try {\n",
              "        const charts = await google.colab.kernel.invokeFunction(\n",
              "            'suggestCharts', [key], {});\n",
              "      } catch (error) {\n",
              "        console.error('Error during call to suggestCharts:', error);\n",
              "      }\n",
              "      quickchartButtonEl.classList.remove('colab-df-spinner');\n",
              "      quickchartButtonEl.classList.add('colab-df-quickchart-complete');\n",
              "    }\n",
              "    (() => {\n",
              "      let quickchartButtonEl =\n",
              "        document.querySelector('#df-ead693f3-fb94-47b2-aa2d-d4e30c87d6dc button');\n",
              "      quickchartButtonEl.style.display =\n",
              "        google.colab.kernel.accessAllowed ? 'block' : 'none';\n",
              "    })();\n",
              "  </script>\n",
              "</div>\n",
              "    </div>\n",
              "  </div>\n"
            ]
          },
          "metadata": {},
          "execution_count": 23
        }
      ]
    },
    {
      "cell_type": "code",
      "source": [
        "#keras only takes numpy array\n",
        "real_stock_price = dataset_test.iloc[:, 1: 2].values\n",
        "real_stock_price.shape"
      ],
      "metadata": {
        "colab": {
          "base_uri": "https://localhost:8080/"
        },
        "id": "6wXvys9oFf7X",
        "outputId": "c9345396-3ac2-458e-ca41-d3752668b913"
      },
      "execution_count": null,
      "outputs": [
        {
          "output_type": "execute_result",
          "data": {
            "text/plain": [
              "(125, 1)"
            ]
          },
          "metadata": {},
          "execution_count": 24
        }
      ]
    },
    {
      "cell_type": "code",
      "source": [
        "len(dataset_train)"
      ],
      "metadata": {
        "colab": {
          "base_uri": "https://localhost:8080/"
        },
        "id": "N2IdrAOQOiAo",
        "outputId": "bba3eed8-45b1-4f6f-e2d7-e0d720dacc78"
      },
      "execution_count": null,
      "outputs": [
        {
          "output_type": "execute_result",
          "data": {
            "text/plain": [
              "1509"
            ]
          },
          "metadata": {},
          "execution_count": 25
        }
      ]
    },
    {
      "cell_type": "code",
      "source": [
        "len(dataset_test)"
      ],
      "metadata": {
        "colab": {
          "base_uri": "https://localhost:8080/"
        },
        "id": "Rbnmri7OPUeY",
        "outputId": "06315d78-4a29-4949-d1df-306414efcd5a"
      },
      "execution_count": null,
      "outputs": [
        {
          "output_type": "execute_result",
          "data": {
            "text/plain": [
              "125"
            ]
          },
          "metadata": {},
          "execution_count": 26
        }
      ]
    },
    {
      "cell_type": "markdown",
      "source": [
        "Concat and convert"
      ],
      "metadata": {
        "id": "LBZ25j8RF7QR"
      }
    },
    {
      "cell_type": "code",
      "source": [
        "#vertical concat use 0, horizontal uses 1\n",
        "dataset_total = pd.concat((dataset_train['Open'], dataset_test['Open']), axis = 0)\n",
        "##use .values to make numpy array\n",
        "inputs = dataset_total[len(dataset_total) - len(dataset_test) - 60:].values"
      ],
      "metadata": {
        "id": "YUuMe50QF3NX"
      },
      "execution_count": null,
      "outputs": []
    },
    {
      "cell_type": "code",
      "source": [
        "inputs.shape"
      ],
      "metadata": {
        "colab": {
          "base_uri": "https://localhost:8080/"
        },
        "id": "2nyP3nsONhsx",
        "outputId": "adeb20b9-b083-47a6-80d1-3bffb77dfd42"
      },
      "execution_count": null,
      "outputs": [
        {
          "output_type": "execute_result",
          "data": {
            "text/plain": [
              "(185,)"
            ]
          },
          "metadata": {},
          "execution_count": 28
        }
      ]
    },
    {
      "cell_type": "markdown",
      "source": [
        "eshape and scale"
      ],
      "metadata": {
        "id": "XnLIeVdiGiMg"
      }
    },
    {
      "cell_type": "code",
      "source": [
        "#reshape data to only have 1 col\n",
        "inputs = inputs.reshape(-1, 1)\n",
        "\n",
        "#scale input\n",
        "inputs = sc.transform(inputs)"
      ],
      "metadata": {
        "id": "RDBKsT8uGdr3"
      },
      "execution_count": null,
      "outputs": []
    },
    {
      "cell_type": "code",
      "source": [
        "inputs"
      ],
      "metadata": {
        "colab": {
          "base_uri": "https://localhost:8080/"
        },
        "id": "6Pk4WNO5Gnfo",
        "outputId": "b4add3bb-d7c4-4e49-c785-fb0d93b0332c"
      },
      "execution_count": null,
      "outputs": [
        {
          "output_type": "execute_result",
          "data": {
            "text/plain": [
              "array([[0.84962571],\n",
              "       [0.86370723],\n",
              "       [0.88041408],\n",
              "       [0.88041408],\n",
              "       [0.87252539],\n",
              "       [0.88977245],\n",
              "       [0.89548795],\n",
              "       [0.89561353],\n",
              "       [0.89333989],\n",
              "       [0.89519906],\n",
              "       [0.88795101],\n",
              "       [0.89227219],\n",
              "       [0.89237271],\n",
              "       [0.86785253],\n",
              "       [0.86580499],\n",
              "       [0.88041408],\n",
              "       [0.91708126],\n",
              "       [0.92312336],\n",
              "       [0.92465583],\n",
              "       [0.92715565],\n",
              "       [0.93287114],\n",
              "       [0.93331076],\n",
              "       [0.94195312],\n",
              "       [0.93979257],\n",
              "       [0.94387507],\n",
              "       [0.94823389],\n",
              "       [0.93877501],\n",
              "       [0.93495632],\n",
              "       [0.93391377],\n",
              "       [0.92966796],\n",
              "       [0.93382583],\n",
              "       [0.94825904],\n",
              "       [0.93098691],\n",
              "       [0.93481816],\n",
              "       [0.94950262],\n",
              "       [0.95059547],\n",
              "       [0.9557834 ],\n",
              "       [0.97473874],\n",
              "       [0.95914996],\n",
              "       [0.93363737],\n",
              "       [0.92538443],\n",
              "       [0.92144008],\n",
              "       [0.9004372 ],\n",
              "       [0.90742142],\n",
              "       [0.93120043],\n",
              "       [0.95263043],\n",
              "       [0.9501307 ],\n",
              "       [0.95531863],\n",
              "       [0.96347106],\n",
              "       [0.96206417],\n",
              "       [0.97413581],\n",
              "       [0.98854387],\n",
              "       [1.        ],\n",
              "       [0.99570405],\n",
              "       [0.98712441],\n",
              "       [0.98230082],\n",
              "       [0.97848205],\n",
              "       [0.97762796],\n",
              "       [0.97035477],\n",
              "       [0.96422472],\n",
              "       [0.96625969],\n",
              "       [0.98632061],\n",
              "       [1.01607885],\n",
              "       [1.02361578],\n",
              "       [1.03395391],\n",
              "       [1.0429606 ],\n",
              "       [1.02750983],\n",
              "       [1.03906655],\n",
              "       [1.03418009],\n",
              "       [1.07199033],\n",
              "       [1.06408907],\n",
              "       [1.07060859],\n",
              "       [1.07113608],\n",
              "       [1.07824596],\n",
              "       [1.10633357],\n",
              "       [1.12829114],\n",
              "       [1.12226169],\n",
              "       [1.12546479],\n",
              "       [1.12722344],\n",
              "       [1.11635767],\n",
              "       [1.11979952],\n",
              "       [1.10980057],\n",
              "       [1.05878813],\n",
              "       [1.01934482],\n",
              "       [0.93967955],\n",
              "       [1.00796413],\n",
              "       [0.97514079],\n",
              "       [0.92720587],\n",
              "       [0.96583264],\n",
              "       [0.96206417],\n",
              "       [0.96702593],\n",
              "       [1.00486131],\n",
              "       [1.01659391],\n",
              "       [1.0193071 ],\n",
              "       [1.03928   ],\n",
              "       [1.05148979],\n",
              "       [1.04703053],\n",
              "       [1.06607389],\n",
              "       [1.08295654],\n",
              "       [1.060082  ],\n",
              "       [1.04103865],\n",
              "       [0.97221385],\n",
              "       [0.99992471],\n",
              "       [1.03017287],\n",
              "       [1.0175736 ],\n",
              "       [1.05039694],\n",
              "       [1.0763743 ],\n",
              "       [1.11135819],\n",
              "       [1.11908358],\n",
              "       [1.08794344],\n",
              "       [1.09391018],\n",
              "       [1.09916097],\n",
              "       [1.05628839],\n",
              "       [1.02989656],\n",
              "       [1.02203301],\n",
              "       [1.00839118],\n",
              "       [0.9646142 ],\n",
              "       [0.96332033],\n",
              "       [0.98467497],\n",
              "       [0.90302488],\n",
              "       [0.92014628],\n",
              "       [0.93420266],\n",
              "       [0.92301027],\n",
              "       [0.89725909],\n",
              "       [0.95745403],\n",
              "       [0.93066029],\n",
              "       [0.92664058],\n",
              "       [0.93874986],\n",
              "       [0.94069696],\n",
              "       [0.93699136],\n",
              "       [0.95688882],\n",
              "       [0.95201493],\n",
              "       [0.97006588],\n",
              "       [1.00280136],\n",
              "       [0.99271439],\n",
              "       [1.00854192],\n",
              "       [1.00334142],\n",
              "       [0.97085726],\n",
              "       [0.93759429],\n",
              "       [0.94260634],\n",
              "       [0.96332033],\n",
              "       [0.94323442],\n",
              "       [0.92269623],\n",
              "       [0.94083512],\n",
              "       [0.92940414],\n",
              "       [0.92676624],\n",
              "       [0.96737768],\n",
              "       [0.97907256],\n",
              "       [0.97851978],\n",
              "       [1.01360426],\n",
              "       [1.02311329],\n",
              "       [1.03115271],\n",
              "       [1.01859116],\n",
              "       [1.00265062],\n",
              "       [1.00589145],\n",
              "       [0.98324293],\n",
              "       [0.99856812],\n",
              "       [1.01050159],\n",
              "       [0.98735058],\n",
              "       [1.00477345],\n",
              "       [1.0047986 ],\n",
              "       [0.98704912],\n",
              "       [0.98471269],\n",
              "       [0.99040311],\n",
              "       [1.03033618],\n",
              "       [1.0592026 ],\n",
              "       [1.0826425 ],\n",
              "       [1.08412483],\n",
              "       [1.07049543],\n",
              "       [1.05398968],\n",
              "       [1.05451717],\n",
              "       [1.07018139],\n",
              "       [1.08280581],\n",
              "       [1.08623509],\n",
              "       [1.09252844],\n",
              "       [1.08598392],\n",
              "       [1.10463779],\n",
              "       [1.12575384],\n",
              "       [1.1251759 ],\n",
              "       [1.10544175],\n",
              "       [1.08592105],\n",
              "       [1.06632506],\n",
              "       [1.05795902],\n",
              "       [1.03377803],\n",
              "       [1.05627582]])"
            ]
          },
          "metadata": {},
          "execution_count": 30
        }
      ]
    },
    {
      "cell_type": "markdown",
      "source": [
        "Create test data strucutre"
      ],
      "metadata": {
        "id": "9UeJA0DIGzc1"
      }
    },
    {
      "cell_type": "code",
      "source": [
        "X_test = []\n",
        "for i in range(60, len(inputs)):\n",
        "    X_test.append(inputs[i-60:i, 0])\n",
        "X_test = np.array(X_test)\n",
        "#add dimension of indicator\n",
        "X_test = np.reshape(X_test, (X_test.shape[0], X_test.shape[1], 1))"
      ],
      "metadata": {
        "id": "wwLLRG3pGt0Y"
      },
      "execution_count": null,
      "outputs": []
    },
    {
      "cell_type": "code",
      "source": [
        "X_test.shape"
      ],
      "metadata": {
        "colab": {
          "base_uri": "https://localhost:8080/"
        },
        "id": "pPrQAUZgG3Sf",
        "outputId": "5d88799b-480e-494b-d64f-f311e046e248"
      },
      "execution_count": null,
      "outputs": [
        {
          "output_type": "execute_result",
          "data": {
            "text/plain": [
              "(125, 60, 1)"
            ]
          },
          "metadata": {},
          "execution_count": 32
        }
      ]
    },
    {
      "cell_type": "markdown",
      "source": [
        "Model prediction"
      ],
      "metadata": {
        "id": "PblIwoIiHBDg"
      }
    },
    {
      "cell_type": "code",
      "source": [
        "predicted_stock_price = regressor.predict(X_test)"
      ],
      "metadata": {
        "id": "1WZ5IAVEG7Zx",
        "colab": {
          "base_uri": "https://localhost:8080/"
        },
        "outputId": "68a14995-bfd0-475f-bb4f-8ad6015c85da"
      },
      "execution_count": null,
      "outputs": [
        {
          "output_type": "stream",
          "name": "stdout",
          "text": [
            "4/4 [==============================] - 2s 32ms/step\n"
          ]
        }
      ]
    },
    {
      "cell_type": "code",
      "source": [
        "#inverse the scaled value\n",
        "predicted_stock_price = sc.inverse_transform(predicted_stock_price)"
      ],
      "metadata": {
        "id": "m5y3rH-3HEmF"
      },
      "execution_count": null,
      "outputs": []
    },
    {
      "cell_type": "markdown",
      "source": [
        "Result visualization"
      ],
      "metadata": {
        "id": "D38dC_jXHMCd"
      }
    },
    {
      "cell_type": "code",
      "source": [
        "##visualize the prediction and real price\n",
        "plt.figure(figsize=(16, 8))\n",
        "plt.plot(real_stock_price, color = 'red', label = 'Real price')\n",
        "plt.plot(predicted_stock_price, color = 'blue', label = 'Predicted price')\n",
        "\n",
        "plt.title('Google price prediction')\n",
        "plt.xlabel('Time')\n",
        "plt.ylabel('Price')\n",
        "plt.legend()\n",
        "plt.show()"
      ],
      "metadata": {
        "colab": {
          "base_uri": "https://localhost:8080/"
        },
        "id": "WSzfR2mjHHz0",
        "outputId": "5b7ccbbd-ea7c-4b21-f83e-56a131faba27"
      },
      "execution_count": null,
      "outputs": [
        {
          "output_type": "display_data",
          "data": {
            "text/plain": [
              "<Figure size 1600x800 with 1 Axes>"
            ],
            "image/png": "[encoded data removed]"
          },
          "metadata": {}
        }
      ]
    },
    {
      "cell_type": "code",
      "source": [],
      "metadata": {
        "id": "4Jmsiq38HPwn"
      },
      "execution_count": null,
      "outputs": []
    }
  ]
}